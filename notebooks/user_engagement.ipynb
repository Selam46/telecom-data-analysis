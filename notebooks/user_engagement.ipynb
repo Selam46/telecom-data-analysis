{
 "cells": [
  {
   "cell_type": "markdown",
   "metadata": {},
   "source": [
    "# User Engagement Analysis Notebook\n",
    "\n",
    "This notebook provides an overview of a telecom user engagement analysis workflow. It involves data extraction from a PostgreSQL database, clustering, visualization, and insights generation.\n",
    "\n",
    "---\n",
    "\n"
   ]
  },
  {
   "cell_type": "code",
   "execution_count": null,
   "metadata": {},
   "outputs": [],
   "source": [
    "import os\n",
    "from dotenv import load_dotenv\n",
    "import psycopg2\n",
    "import pandas as pd\n",
    "import numpy as np\n",
    "from sklearn.preprocessing import StandardScaler\n",
    "from sklearn.cluster import KMeans\n",
    "from sklearn.decomposition import PCA\n",
    "import seaborn as sns\n",
    "import matplotlib.pyplot as plt\n",
    "from datetime import datetime\n",
    "from kneed import KneeLocator"
   ]
  },
  {
   "cell_type": "code",
   "execution_count": null,
   "metadata": {},
   "outputs": [],
   "source": [
    "def connect_to_database():\n",
    "    try:\n",
    "        conn = psycopg2.connect(\n",
    "            dbname=os.getenv(\"DB_NAME\"),\n",
    "            user=os.getenv(\"DB_USER\"),\n",
    "            password=os.getenv(\"DB_PASSWORD\"),\n",
    "            host=os.getenv(\"DB_HOST\"),\n",
    "            port=os.getenv(\"DB_PORT\")\n",
    "        )\n",
    "        return conn\n",
    "    except Exception as e:\n",
    "        print(f\"Error connecting to database: {e}\")\n",
    "        return None\n"
   ]
  },
  {
   "cell_type": "code",
   "execution_count": null,
   "metadata": {},
   "outputs": [],
   "source": [
    "def get_user_engagement_metrics():\n",
    "    conn = connect_to_database()\n",
    "    if conn is None:\n",
    "        return None\n",
    "    \n",
    "    query = \"\"\"\n",
    "    SELECT \n",
    "        \"MSISDN/Number\" as user_id,\n",
    "        COUNT(*) as session_frequency,\n",
    "        SUM(\"Dur. (ms)\") as total_duration,\n",
    "        SUM(\"Total DL (Bytes)\" + \"Total UL (Bytes)\") as total_traffic,\n",
    "        SUM(\"Social Media DL (Bytes)\" + \"Social Media UL (Bytes)\") as social_media_traffic,\n",
    "        SUM(\"Google DL (Bytes)\" + \"Google UL (Bytes)\") as google_traffic,\n",
    "        SUM(\"Email DL (Bytes)\" + \"Email UL (Bytes)\") as email_traffic,\n",
    "        SUM(\"Youtube DL (Bytes)\" + \"Youtube UL (Bytes)\") as youtube_traffic,\n",
    "        SUM(\"Netflix DL (Bytes)\" + \"Netflix UL (Bytes)\") as netflix_traffic,\n",
    "        SUM(\"Gaming DL (Bytes)\" + \"Gaming UL (Bytes)\") as gaming_traffic,\n",
    "        SUM(\"Other DL (Bytes)\" + \"Other UL (Bytes)\") as other_traffic\n",
    "    FROM xdr_data\n",
    "    GROUP BY \"MSISDN/Number\"\n",
    "    \"\"\"\n",
    "    \n",
    "    df = pd.read_sql_query(query, conn)\n",
    "    conn.close()\n",
    "    return df\n"
   ]
  }
 ],
 "metadata": {
  "kernelspec": {
   "display_name": "venv",
   "language": "python",
   "name": "python3"
  },
  "language_info": {
   "name": "python",
   "version": "3.12.6"
  }
 },
 "nbformat": 4,
 "nbformat_minor": 2
}
