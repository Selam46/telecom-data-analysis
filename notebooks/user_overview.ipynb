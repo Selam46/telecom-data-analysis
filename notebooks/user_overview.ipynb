{
 "cells": [
  {
   "cell_type": "markdown",
   "metadata": {},
   "source": [
    "# **Telecom Data Analysis**\n",
    "\n",
    "This document outlines a Python script designed for telecom data analysis. The script connects to a PostgreSQL database, retrieves data, performs exploratory data analysis (EDA), and generates visualizations.\n",
    "\n",
    "---\n",
    "\n",
    "## **1. Prerequisites**\n",
    "\n",
    "### **Libraries Required**\n",
    "The following libraries are used in this script:\n",
    "- `psycopg2` for PostgreSQL database connections.\n",
    "- `pandas` and `numpy` for data manipulation and analysis.\n",
    "- `scikit-learn` for data preprocessing and PCA.\n",
    "- `seaborn` and `matplotlib` for data visualization.\n",
    "- `tabulate` for table formatting.\n",
    "- `dotenv` for loading environment variables.\n",
    "\n",
    "---\n",
    "\n",
    "## **2. Database Connection**\n",
    "\n",
    "The script connects to a PostgreSQL database using environment variables loaded from a `.env` file.\n",
    "\n",
    "```python\n",
    "def connect_to_database():\n",
    "    \"\"\"Establish connection to PostgreSQL database.\"\"\"\n",
    "    try:\n",
    "        conn = psycopg2.connect(\n",
    "            dbname=os.getenv(\"DB_NAME\"),\n",
    "            user=os.getenv(\"DB_USER\"),\n",
    "            password=os.getenv(\"DB_PASSWORD\"),\n",
    "            host=os.getenv(\"DB_HOST\"),\n",
    "            port=os.getenv(\"DB_PORT\")\n",
    "        )\n",
    "        return conn\n",
    "    except Exception as e:\n",
    "        print(f\"Error connecting to database: {e}\")\n",
    "        return None\n"
   ]
  }
 ],
 "metadata": {
  "language_info": {
   "name": "python"
  }
 },
 "nbformat": 4,
 "nbformat_minor": 2
}
